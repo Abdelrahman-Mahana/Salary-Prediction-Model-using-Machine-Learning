{
 "cells": [
  {
   "cell_type": "markdown",
   "metadata": {
    "papermill": {
     "duration": 0.014972,
     "end_time": "2023-01-19T15:01:40.423074",
     "exception": false,
     "start_time": "2023-01-19T15:01:40.408102",
     "status": "completed"
    },
    "tags": []
   },
   "source": [
    "# Importing the libraries"
   ]
  },
  {
   "cell_type": "code",
   "execution_count": 1,
   "metadata": {
    "_cell_guid": "b1076dfc-b9ad-4769-8c92-a6c4dae69d19",
    "_uuid": "8f2839f25d086af736a60e9eeb907d3b93b6e0e5",
    "execution": {
     "iopub.execute_input": "2023-01-19T15:01:40.455367Z",
     "iopub.status.busy": "2023-01-19T15:01:40.454639Z",
     "iopub.status.idle": "2023-01-19T15:01:40.458792Z",
     "shell.execute_reply": "2023-01-19T15:01:40.459315Z",
     "shell.execute_reply.started": "2023-01-19T14:53:17.564188Z"
    },
    "papermill": {
     "duration": 0.022401,
     "end_time": "2023-01-19T15:01:40.459659",
     "exception": false,
     "start_time": "2023-01-19T15:01:40.437258",
     "status": "completed"
    },
    "tags": []
   },
   "outputs": [],
   "source": [
    "# Importing the libraries\n",
    "import numpy as np\n",
    "import matplotlib.pyplot as plt\n",
    "import pandas as pd"
   ]
  },
  {
   "cell_type": "markdown",
   "metadata": {
    "papermill": {
     "duration": 0.01397,
     "end_time": "2023-01-19T15:01:40.487288",
     "exception": false,
     "start_time": "2023-01-19T15:01:40.473318",
     "status": "completed"
    },
    "tags": []
   },
   "source": [
    "# Importing the dataset"
   ]
  },
  {
   "cell_type": "code",
   "execution_count": 2,
   "metadata": {
    "execution": {
     "iopub.execute_input": "2023-01-19T15:01:40.518454Z",
     "iopub.status.busy": "2023-01-19T15:01:40.517806Z",
     "iopub.status.idle": "2023-01-19T15:01:40.542146Z",
     "shell.execute_reply": "2023-01-19T15:01:40.541529Z",
     "shell.execute_reply.started": "2023-01-19T14:55:25.802694Z"
    },
    "papermill": {
     "duration": 0.040835,
     "end_time": "2023-01-19T15:01:40.542288",
     "exception": false,
     "start_time": "2023-01-19T15:01:40.501453",
     "status": "completed"
    },
    "tags": []
   },
   "outputs": [],
   "source": [
    "# Importing the dataset\n",
    "dataset = pd.read_csv('../input/salary/Salary.csv')\n",
    "X = dataset.iloc[:, [0]].values\n",
    "y = dataset.iloc[:, -1].values"
   ]
  },
  {
   "cell_type": "code",
   "execution_count": 3,
   "metadata": {
    "execution": {
     "iopub.execute_input": "2023-01-19T15:01:40.575687Z",
     "iopub.status.busy": "2023-01-19T15:01:40.575078Z",
     "iopub.status.idle": "2023-01-19T15:01:41.692605Z",
     "shell.execute_reply": "2023-01-19T15:01:41.693279Z",
     "shell.execute_reply.started": "2023-01-19T14:56:58.178286Z"
    },
    "papermill": {
     "duration": 1.136391,
     "end_time": "2023-01-19T15:01:41.693451",
     "exception": false,
     "start_time": "2023-01-19T15:01:40.557060",
     "status": "completed"
    },
    "tags": []
   },
   "outputs": [
    {
     "data": {
      "text/plain": [
       "<AxesSubplot:>"
      ]
     },
     "execution_count": 3,
     "metadata": {},
     "output_type": "execute_result"
    },
    {
     "data": {
      "image/png": "[encoded data removed]",
      "text/plain": [
       "<Figure size 1800x720 with 2 Axes>"
      ]
     },
     "metadata": {
      "needs_background": "light"
     },
     "output_type": "display_data"
    }
   ],
   "source": [
    "#Visualize missing values\n",
    "import missingno as msno\n",
    "msno.matrix(dataset)"
   ]
  },
  {
   "cell_type": "markdown",
   "metadata": {
    "papermill": {
     "duration": 0.014826,
     "end_time": "2023-01-19T15:01:41.724133",
     "exception": false,
     "start_time": "2023-01-19T15:01:41.709307",
     "status": "completed"
    },
    "tags": []
   },
   "source": [
    "# Splitting the dataset"
   ]
  },
  {
   "cell_type": "code",
   "execution_count": 4,
   "metadata": {
    "execution": {
     "iopub.execute_input": "2023-01-19T15:01:41.757800Z",
     "iopub.status.busy": "2023-01-19T15:01:41.757200Z",
     "iopub.status.idle": "2023-01-19T15:01:42.056422Z",
     "shell.execute_reply": "2023-01-19T15:01:42.056919Z",
     "shell.execute_reply.started": "2023-01-19T14:58:56.064328Z"
    },
    "papermill": {
     "duration": 0.317651,
     "end_time": "2023-01-19T15:01:42.057112",
     "exception": false,
     "start_time": "2023-01-19T15:01:41.739461",
     "status": "completed"
    },
    "tags": []
   },
   "outputs": [],
   "source": [
    "# Splitting the dataset into the Training set and Test set\n",
    "from sklearn.model_selection import train_test_split\n",
    "X_train, X_test, y_train, y_test = train_test_split(X, y, test_size = 0.2, random_state = 0)"
   ]
  },
  {
   "cell_type": "markdown",
   "metadata": {
    "papermill": {
     "duration": 0.016433,
     "end_time": "2023-01-19T15:01:42.088917",
     "exception": false,
     "start_time": "2023-01-19T15:01:42.072484",
     "status": "completed"
    },
    "tags": []
   },
   "source": [
    "# Training the Linear Regression"
   ]
  },
  {
   "cell_type": "code",
   "execution_count": 5,
   "metadata": {
    "execution": {
     "iopub.execute_input": "2023-01-19T15:01:42.121458Z",
     "iopub.status.busy": "2023-01-19T15:01:42.120882Z",
     "iopub.status.idle": "2023-01-19T15:01:42.235111Z",
     "shell.execute_reply": "2023-01-19T15:01:42.234565Z",
     "shell.execute_reply.started": "2023-01-19T14:59:02.681540Z"
    },
    "papermill": {
     "duration": 0.13152,
     "end_time": "2023-01-19T15:01:42.235256",
     "exception": false,
     "start_time": "2023-01-19T15:01:42.103736",
     "status": "completed"
    },
    "tags": []
   },
   "outputs": [
    {
     "data": {
      "text/plain": [
       "LinearRegression()"
      ]
     },
     "execution_count": 5,
     "metadata": {},
     "output_type": "execute_result"
    }
   ],
   "source": [
    "# Training the Linear Regression model on the whole dataset\n",
    "from sklearn.linear_model import LinearRegression\n",
    "lin_reg = LinearRegression()\n",
    "lin_reg.fit(X_train, y_train)"
   ]
  },
  {
   "cell_type": "markdown",
   "metadata": {
    "papermill": {
     "duration": 0.015085,
     "end_time": "2023-01-19T15:01:42.265303",
     "exception": false,
     "start_time": "2023-01-19T15:01:42.250218",
     "status": "completed"
    },
    "tags": []
   },
   "source": [
    "# Training the Polynomial Regression model"
   ]
  },
  {
   "cell_type": "code",
   "execution_count": 6,
   "metadata": {
    "execution": {
     "iopub.execute_input": "2023-01-19T15:01:42.300084Z",
     "iopub.status.busy": "2023-01-19T15:01:42.299183Z",
     "iopub.status.idle": "2023-01-19T15:01:42.307807Z",
     "shell.execute_reply": "2023-01-19T15:01:42.308296Z",
     "shell.execute_reply.started": "2023-01-19T15:01:02.815162Z"
    },
    "papermill": {
     "duration": 0.027454,
     "end_time": "2023-01-19T15:01:42.308496",
     "exception": false,
     "start_time": "2023-01-19T15:01:42.281042",
     "status": "completed"
    },
    "tags": []
   },
   "outputs": [
    {
     "data": {
      "text/plain": [
       "LinearRegression()"
      ]
     },
     "execution_count": 6,
     "metadata": {},
     "output_type": "execute_result"
    }
   ],
   "source": [
    "# Training the Polynomial Regression model on the whole dataset\n",
    "from sklearn.preprocessing import PolynomialFeatures\n",
    "poly_reg = PolynomialFeatures(degree = 5)\n",
    "X_poly = poly_reg.fit_transform(X_train)\n",
    "lin_reg_2 = LinearRegression()\n",
    "lin_reg_2.fit(X_poly, y_train)"
   ]
  },
  {
   "cell_type": "markdown",
   "metadata": {
    "papermill": {
     "duration": 0.015007,
     "end_time": "2023-01-19T15:01:42.339427",
     "exception": false,
     "start_time": "2023-01-19T15:01:42.324420",
     "status": "completed"
    },
    "tags": []
   },
   "source": [
    "# Predicting Linear Regression"
   ]
  },
  {
   "cell_type": "code",
   "execution_count": 7,
   "metadata": {
    "execution": {
     "iopub.execute_input": "2023-01-19T15:01:42.376346Z",
     "iopub.status.busy": "2023-01-19T15:01:42.375624Z",
     "iopub.status.idle": "2023-01-19T15:01:42.379661Z",
     "shell.execute_reply": "2023-01-19T15:01:42.380174Z",
     "shell.execute_reply.started": "2023-01-19T15:01:03.075650Z"
    },
    "papermill": {
     "duration": 0.025035,
     "end_time": "2023-01-19T15:01:42.380372",
     "exception": false,
     "start_time": "2023-01-19T15:01:42.355337",
     "status": "completed"
    },
    "tags": []
   },
   "outputs": [
    {
     "data": {
      "text/plain": [
       "array([120520.24598956, 157250.49879125, 108276.828389  ,  51651.0219864 ,\n",
       "        64659.653187  , 103685.54678879, 113633.32358925,  65424.86678703,\n",
       "       161076.56679142])"
      ]
     },
     "execution_count": 7,
     "metadata": {},
     "output_type": "execute_result"
    }
   ],
   "source": [
    "# Predicting a new result with Linear Regression\n",
    "lin_reg.predict(X_test)\n"
   ]
  },
  {
   "cell_type": "code",
   "execution_count": 8,
   "metadata": {
    "execution": {
     "iopub.execute_input": "2023-01-19T15:01:42.417089Z",
     "iopub.status.busy": "2023-01-19T15:01:42.416419Z",
     "iopub.status.idle": "2023-01-19T15:01:42.422253Z",
     "shell.execute_reply": "2023-01-19T15:01:42.421706Z",
     "shell.execute_reply.started": "2023-01-19T15:01:03.244376Z"
    },
    "papermill": {
     "duration": 0.026286,
     "end_time": "2023-01-19T15:01:42.422407",
     "exception": false,
     "start_time": "2023-01-19T15:01:42.396121",
     "status": "completed"
    },
    "tags": []
   },
   "outputs": [
    {
     "data": {
      "text/plain": [
       "array([127345, 149457, 112635,  39891,  63218, 105582, 122391,  55794,\n",
       "       150000])"
      ]
     },
     "execution_count": 8,
     "metadata": {},
     "output_type": "execute_result"
    }
   ],
   "source": [
    "y_test"
   ]
  },
  {
   "cell_type": "markdown",
   "metadata": {
    "papermill": {
     "duration": 0.015355,
     "end_time": "2023-01-19T15:01:42.453390",
     "exception": false,
     "start_time": "2023-01-19T15:01:42.438035",
     "status": "completed"
    },
    "tags": []
   },
   "source": [
    "# Predicting Polynomial Regression"
   ]
  },
  {
   "cell_type": "markdown",
   "metadata": {
    "papermill": {
     "duration": 0.015684,
     "end_time": "2023-01-19T15:01:42.484808",
     "exception": false,
     "start_time": "2023-01-19T15:01:42.469124",
     "status": "completed"
    },
    "tags": []
   },
   "source": [
    "Polynomial Regression is the best."
   ]
  },
  {
   "cell_type": "code",
   "execution_count": 9,
   "metadata": {
    "execution": {
     "iopub.execute_input": "2023-01-19T15:01:42.523001Z",
     "iopub.status.busy": "2023-01-19T15:01:42.522349Z",
     "iopub.status.idle": "2023-01-19T15:01:42.525502Z",
     "shell.execute_reply": "2023-01-19T15:01:42.524990Z",
     "shell.execute_reply.started": "2023-01-19T15:01:04.124092Z"
    },
    "papermill": {
     "duration": 0.024691,
     "end_time": "2023-01-19T15:01:42.525626",
     "exception": false,
     "start_time": "2023-01-19T15:01:42.500935",
     "status": "completed"
    },
    "tags": []
   },
   "outputs": [
    {
     "data": {
      "text/plain": [
       "array([126586.11196707, 148891.69720111, 117351.18139238,  46207.80613146,\n",
       "        61240.73878231, 113076.78032871, 121748.05128191,  62306.74001136,\n",
       "       152283.68329674])"
      ]
     },
     "execution_count": 9,
     "metadata": {},
     "output_type": "execute_result"
    }
   ],
   "source": [
    "# Predicting a new result with Polynomial Regression\n",
    "lin_reg_2.predict(poly_reg.fit_transform(X_test))"
   ]
  },
  {
   "cell_type": "code",
   "execution_count": 10,
   "metadata": {
    "execution": {
     "iopub.execute_input": "2023-01-19T15:01:42.562745Z",
     "iopub.status.busy": "2023-01-19T15:01:42.562081Z",
     "iopub.status.idle": "2023-01-19T15:01:42.565033Z",
     "shell.execute_reply": "2023-01-19T15:01:42.565409Z",
     "shell.execute_reply.started": "2023-01-19T15:01:04.294314Z"
    },
    "papermill": {
     "duration": 0.023703,
     "end_time": "2023-01-19T15:01:42.565558",
     "exception": false,
     "start_time": "2023-01-19T15:01:42.541855",
     "status": "completed"
    },
    "tags": []
   },
   "outputs": [
    {
     "data": {
      "text/plain": [
       "array([127345, 149457, 112635,  39891,  63218, 105582, 122391,  55794,\n",
       "       150000])"
      ]
     },
     "execution_count": 10,
     "metadata": {},
     "output_type": "execute_result"
    }
   ],
   "source": [
    "y_test"
   ]
  },
  {
   "cell_type": "markdown",
   "metadata": {
    "papermill": {
     "duration": 0.01693,
     "end_time": "2023-01-19T15:01:42.599055",
     "exception": false,
     "start_time": "2023-01-19T15:01:42.582125",
     "status": "completed"
    },
    "tags": []
   },
   "source": [
    "# Visualising the Linear Regression"
   ]
  },
  {
   "cell_type": "code",
   "execution_count": 11,
   "metadata": {
    "execution": {
     "iopub.execute_input": "2023-01-19T15:01:42.682535Z",
     "iopub.status.busy": "2023-01-19T15:01:42.642669Z",
     "iopub.status.idle": "2023-01-19T15:01:42.799388Z",
     "shell.execute_reply": "2023-01-19T15:01:42.798853Z",
     "shell.execute_reply.started": "2023-01-19T15:01:04.624475Z"
    },
    "papermill": {
     "duration": 0.184105,
     "end_time": "2023-01-19T15:01:42.799519",
     "exception": false,
     "start_time": "2023-01-19T15:01:42.615414",
     "status": "completed"
    },
    "tags": []
   },
   "outputs": [
    {
     "data": {
      "image/png": "[encoded data removed]",
      "text/plain": [
       "<Figure size 432x288 with 1 Axes>"
      ]
     },
     "metadata": {
      "needs_background": "light"
     },
     "output_type": "display_data"
    }
   ],
   "source": [
    "# Visualising the Linear Regression results\n",
    "plt.scatter(X_train, y_train, color = 'red')\n",
    "plt.plot(X_train, lin_reg.predict(X_train), color = 'blue')\n",
    "plt.title('Truth or Bluff (Linear Regression)')\n",
    "plt.xlabel('Position Level')\n",
    "plt.ylabel('Salary')\n",
    "plt.show()"
   ]
  },
  {
   "cell_type": "markdown",
   "metadata": {
    "papermill": {
     "duration": 0.01671,
     "end_time": "2023-01-19T15:01:42.833239",
     "exception": false,
     "start_time": "2023-01-19T15:01:42.816529",
     "status": "completed"
    },
    "tags": []
   },
   "source": [
    "# Visualising the Polynomial Regression"
   ]
  },
  {
   "cell_type": "code",
   "execution_count": 12,
   "metadata": {
    "execution": {
     "iopub.execute_input": "2023-01-19T15:01:42.889015Z",
     "iopub.status.busy": "2023-01-19T15:01:42.888318Z",
     "iopub.status.idle": "2023-01-19T15:01:43.024616Z",
     "shell.execute_reply": "2023-01-19T15:01:43.024080Z",
     "shell.execute_reply.started": "2023-01-19T15:01:04.954304Z"
    },
    "papermill": {
     "duration": 0.174323,
     "end_time": "2023-01-19T15:01:43.024747",
     "exception": false,
     "start_time": "2023-01-19T15:01:42.850424",
     "status": "completed"
    },
    "tags": []
   },
   "outputs": [
    {
     "data": {
      "image/png": "[encoded data removed]",
      "text/plain": [
       "<Figure size 432x288 with 1 Axes>"
      ]
     },
     "metadata": {
      "needs_background": "light"
     },
     "output_type": "display_data"
    }
   ],
   "source": [
    "# Visualising the Polynomial Regression results (for higher resolution and smoother curve)\n",
    "X_grid = np.arange(min(X_train), max(X_train), 0.1)\n",
    "X_grid = X_grid.reshape((len(X_grid), 1))\n",
    "plt.scatter(X_train, y_train, color = 'red')\n",
    "plt.plot(X_grid, lin_reg_2.predict(poly_reg.fit_transform(X_grid)), color = 'blue')\n",
    "plt.title('Truth or Bluff (Polynomial Regression)')\n",
    "plt.xlabel('Position level')\n",
    "plt.ylabel('Salary')\n",
    "plt.show()"
   ]
  },
  {
   "cell_type": "code",
   "execution_count": null,
   "metadata": {
    "papermill": {
     "duration": 0.01737,
     "end_time": "2023-01-19T15:01:43.059888",
     "exception": false,
     "start_time": "2023-01-19T15:01:43.042518",
     "status": "completed"
    },
    "tags": []
   },
   "outputs": [],
   "source": []
  },
  {
   "cell_type": "code",
   "execution_count": null,
   "metadata": {
    "papermill": {
     "duration": 0.017366,
     "end_time": "2023-01-19T15:01:43.095058",
     "exception": false,
     "start_time": "2023-01-19T15:01:43.077692",
     "status": "completed"
    },
    "tags": []
   },
   "outputs": [],
   "source": []
  },
  {
   "cell_type": "code",
   "execution_count": null,
   "metadata": {
    "papermill": {
     "duration": 0.017379,
     "end_time": "2023-01-19T15:01:43.130321",
     "exception": false,
     "start_time": "2023-01-19T15:01:43.112942",
     "status": "completed"
    },
    "tags": []
   },
   "outputs": [],
   "source": []
  },
  {
   "cell_type": "code",
   "execution_count": null,
   "metadata": {
    "papermill": {
     "duration": 0.017466,
     "end_time": "2023-01-19T15:01:43.165602",
     "exception": false,
     "start_time": "2023-01-19T15:01:43.148136",
     "status": "completed"
    },
    "tags": []
   },
   "outputs": [],
   "source": []
  },
  {
   "cell_type": "code",
   "execution_count": null,
   "metadata": {
    "papermill": {
     "duration": 0.017351,
     "end_time": "2023-01-19T15:01:43.200845",
     "exception": false,
     "start_time": "2023-01-19T15:01:43.183494",
     "status": "completed"
    },
    "tags": []
   },
   "outputs": [],
   "source": []
  }
 ],
 "metadata": {
  "kernelspec": {
   "display_name": "Python 3",
   "language": "python",
   "name": "python3"
  },
  "language_info": {
   "codemirror_mode": {
    "name": "ipython",
    "version": 3
   },
   "file_extension": ".py",
   "mimetype": "text/x-python",
   "name": "python",
   "nbconvert_exporter": "python",
   "pygments_lexer": "ipython3",
   "version": "3.7.9"
  },
  "papermill": {
   "default_parameters": {},
   "duration": 9.049707,
   "end_time": "2023-01-19T15:01:43.929562",
   "environment_variables": {},
   "exception": null,
   "input_path": "__notebook__.ipynb",
   "output_path": "__notebook__.ipynb",
   "parameters": {},
   "start_time": "2023-01-19T15:01:34.879855",
   "version": "2.2.2"
  }
 },
 "nbformat": 4,
 "nbformat_minor": 4
}
